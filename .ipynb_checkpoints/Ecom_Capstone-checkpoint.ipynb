{
 "cells": [
  {
   "cell_type": "markdown",
   "metadata": {},
   "source": [
    "# 3 phase project\n",
    "\n",
    "1. search reports; projected growth in interest and popluarity, and hopefully include facebook ad reach. useful for niche and product selection, also find the sentiment and polarity from twitter. For a real client I would customize the source for sentiment analysis.\n",
    "2. product scoring; evaluate the quality of a given product on Aliexpress or Oberlo, will take into account the sentiment of reviews, as well as other metrics I will identify later.\n",
    "3. Influencer scoring; predict overall sentiment and polarity of a given influencer as well as their trajectory in the next 6 to 12 months. Also calculate the similaritty of their audience with the client's audience. Lastly, include ig engagement stats too."
   ]
  },
  {
   "cell_type": "markdown",
   "metadata": {},
   "source": [
    "# How to carry out each phase\n",
    "1. identify what data is needed for the functionality to be possible and collect it\n",
    "2. identify what else may be good for a dropshipper to know and collect it\n",
    "3. thorough EDA \n",
    "4. Build Models\n",
    "5. Optimize\n",
    "6. Deploy"
   ]
  },
  {
   "cell_type": "markdown",
   "metadata": {},
   "source": [
    "# What data is nessecary?\n",
    "\n",
    "1. google search trends via pytrends\n",
    "2. number of people actually interested on google or facebook\n",
    "3. predicted reach from a fb ad campaign\n",
    "4. tweets regarding the topic via tweepy\n",
    "\n",
    "Columns list: term, current popularity, covid percentage change, current [insert quantitative attr], predicted percentage change in the next [3, 6, 9, 12, 24] months, estimated reach, estimated clicks, sentiment, polarity"
   ]
  },
  {
   "cell_type": "code",
   "execution_count": 1,
   "metadata": {},
   "outputs": [],
   "source": [
    "#imports and instantiations\n",
    "from pytrends.request import TrendReq\n",
    "import tweepy\n",
    "from statsmodels.tsa import ar_model\n",
    "import numpy as np\n",
    "from textblob import TextBlob\n",
    "import pandas as pd"
   ]
  },
  {
   "cell_type": "code",
   "execution_count": 2,
   "metadata": {},
   "outputs": [],
   "source": [
    "#helper functions\n",
    "def GetReport(keywords, span='today 5-y', geo='', quiet=True):\n",
    "    pytrends = TrendReq(hl='en-US', tz=360)\n",
    "    pytrends.build_payload(keywords, cat=0, timeframe=span, geo=geo, gprop='')\n",
    "    ts = pytrends.interest_over_time().drop(['isPartial'], axis='columns')\n",
    "    if quiet == False:\n",
    "        print(ts.plot())\n",
    "    return ts\n",
    "\n",
    "def AnalyzeTwitter(keyword):\n",
    "    c1 = 'aHXduTrDkva3ItY52tUtYVPvA'\n",
    "    c2 = 'Qs6d4oNT3zXxDqOhita7IG07CfAJGceoqIs1sGuA4OURlbLP6d'\n",
    "    a1 = '1181578611171762177-sGQaj7E9fpWi2aEB3MfWL4nTRovXYk'\n",
    "    a2 = 'wa77yBJZJSOKOAzdaJYDruc9U1HrGhzyDhWgKvSQpm2hv'\n",
    "    auth = tweepy.OAuthHandler(c1, c2)\n",
    "    auth.set_access_token(a1, a2)\n",
    "    api = tweepy.API(auth)\n",
    "    topic = api.search(keyword)\n",
    "    sent = 0\n",
    "    sub = 0\n",
    "    for i in range(len(topic)):\n",
    "        tweet = topic[i]._json['text'].replace('@', '')\n",
    "        blob = TextBlob(tweet)\n",
    "        sent += blob.sentiment[0]/len(topic)\n",
    "        sub += blob.sentiment[1]/len(topic)\n",
    "    return sent, sub\n",
    "\n",
    "def Collect(keyword):\n",
    "    row = {}\n",
    "    ts = GetReport([keyword])\n",
    "    row['term'] = keyword\n",
    "    model = ar_model.AutoReg(ts, lags=4).fit()\n",
    "    pred = model.predict(start=260, end=356)\n",
    "    current_popularity = np.array(ts)[-1][0]\n",
    "    row['current_popularity'] =  current_popularity\n",
    "    row['change_3mo'] = '{}%'.format(round(((pred[11] - current_popularity) / current_popularity) * 100, 1))\n",
    "    row['change_6mo'] = '{}%'.format(round(((pred[23] - current_popularity) / current_popularity) * 100, 1))\n",
    "    row['change_9mo'] = '{}%'.format(round(((pred[35] - current_popularity) / current_popularity) * 100, 1))\n",
    "    row['change_12mo'] = '{}%'.format(round(((pred[47] - current_popularity) / current_popularity) * 100, 1))\n",
    "    row['change_24mo'] = '{}%'.format(round(((pred[95] - current_popularity) / current_popularity) * 100, 1))\n",
    "    row['popularity_2y'] = (((pred[95] - current_popularity) / current_popularity) + 1) * current_popularity\n",
    "    estimated_reach = None\n",
    "    estimated_clicks = None\n",
    "    sentiment, subjectivity = AnalyzeTwitter(keyword)\n",
    "    row['sentiment'] = round(sentiment, 2)\n",
    "    row['subjectivity'] = round(subjectivity, 2)\n",
    "    return row\n",
    "\n",
    "def CollectLoop(terms_list):\n",
    "    df = pd.DataFrame(Collect(terms_list[0]), index=[0])\n",
    "    for term in terms_list[1:]:\n",
    "        temp = pd.DataFrame(Collect(term), index=[0])\n",
    "        df = pd.concat([df, temp])\n",
    "    return df.reset_index().drop(['index'], axis='columns')"
   ]
  },
  {
   "cell_type": "markdown",
   "metadata": {},
   "source": [
    "## Data Sourcing\n",
    "in the bag: search trends, time series modeling, twitter nlp\n",
    "\n",
    "need to figure out: facebook analytics, google analytics, fb ads?"
   ]
  },
  {
   "cell_type": "markdown",
   "metadata": {},
   "source": [
    "Columns list: term, current popularity, covid percentage change, current [insert quantitative attr], predicted percentage change in the next [3, 6, 9, 12, 24] months, estimated reach, estimated clicks, sentiment, polarity"
   ]
  },
  {
   "cell_type": "code",
   "execution_count": 7,
   "metadata": {},
   "outputs": [],
   "source": [
    "hobbies = ['biking', 'gardening', 'surfing', 'home design', 'workouts']\n",
    "products = ['face mask', 'bike helmet', 'board shorts', 'back brace', 'puzzles']"
   ]
  },
  {
   "cell_type": "code",
   "execution_count": 8,
   "metadata": {},
   "outputs": [
    {
     "name": "stderr",
     "output_type": "stream",
     "text": [
      "C:\\Users\\aacjp\\Anaconda3\\lib\\site-packages\\statsmodels\\tsa\\base\\tsa_model.py:524: ValueWarning: No frequency information was provided, so inferred frequency W-SUN will be used.\n",
      "  warnings.warn('No frequency information was'\n",
      "C:\\Users\\aacjp\\Anaconda3\\lib\\site-packages\\statsmodels\\tsa\\ar_model.py:248: FutureWarning: The parameter names will change after 0.12 is released. Set old_names to False to use the new names now. Set old_names to True to use the old names. \n",
      "  warnings.warn(\n",
      "C:\\Users\\aacjp\\Anaconda3\\lib\\site-packages\\statsmodels\\tsa\\deterministic.py:147: UserWarning: Only PeriodIndexes, DatetimeIndexes with a frequency set, RangesIndexes, and Int64Indexes with a unit increment support extending. The index is set will contain the position relative to the data length.\n",
      "  warnings.warn(\n",
      "C:\\Users\\aacjp\\Anaconda3\\lib\\site-packages\\statsmodels\\tsa\\base\\tsa_model.py:524: ValueWarning: No frequency information was provided, so inferred frequency W-SUN will be used.\n",
      "  warnings.warn('No frequency information was'\n",
      "C:\\Users\\aacjp\\Anaconda3\\lib\\site-packages\\statsmodels\\tsa\\ar_model.py:248: FutureWarning: The parameter names will change after 0.12 is released. Set old_names to False to use the new names now. Set old_names to True to use the old names. \n",
      "  warnings.warn(\n",
      "C:\\Users\\aacjp\\Anaconda3\\lib\\site-packages\\statsmodels\\tsa\\deterministic.py:147: UserWarning: Only PeriodIndexes, DatetimeIndexes with a frequency set, RangesIndexes, and Int64Indexes with a unit increment support extending. The index is set will contain the position relative to the data length.\n",
      "  warnings.warn(\n",
      "C:\\Users\\aacjp\\Anaconda3\\lib\\site-packages\\statsmodels\\tsa\\base\\tsa_model.py:524: ValueWarning: No frequency information was provided, so inferred frequency W-SUN will be used.\n",
      "  warnings.warn('No frequency information was'\n",
      "C:\\Users\\aacjp\\Anaconda3\\lib\\site-packages\\statsmodels\\tsa\\ar_model.py:248: FutureWarning: The parameter names will change after 0.12 is released. Set old_names to False to use the new names now. Set old_names to True to use the old names. \n",
      "  warnings.warn(\n",
      "C:\\Users\\aacjp\\Anaconda3\\lib\\site-packages\\statsmodels\\tsa\\deterministic.py:147: UserWarning: Only PeriodIndexes, DatetimeIndexes with a frequency set, RangesIndexes, and Int64Indexes with a unit increment support extending. The index is set will contain the position relative to the data length.\n",
      "  warnings.warn(\n",
      "C:\\Users\\aacjp\\Anaconda3\\lib\\site-packages\\statsmodels\\tsa\\base\\tsa_model.py:524: ValueWarning: No frequency information was provided, so inferred frequency W-SUN will be used.\n",
      "  warnings.warn('No frequency information was'\n",
      "C:\\Users\\aacjp\\Anaconda3\\lib\\site-packages\\statsmodels\\tsa\\ar_model.py:248: FutureWarning: The parameter names will change after 0.12 is released. Set old_names to False to use the new names now. Set old_names to True to use the old names. \n",
      "  warnings.warn(\n",
      "C:\\Users\\aacjp\\Anaconda3\\lib\\site-packages\\statsmodels\\tsa\\deterministic.py:147: UserWarning: Only PeriodIndexes, DatetimeIndexes with a frequency set, RangesIndexes, and Int64Indexes with a unit increment support extending. The index is set will contain the position relative to the data length.\n",
      "  warnings.warn(\n",
      "C:\\Users\\aacjp\\Anaconda3\\lib\\site-packages\\statsmodels\\tsa\\base\\tsa_model.py:524: ValueWarning: No frequency information was provided, so inferred frequency W-SUN will be used.\n",
      "  warnings.warn('No frequency information was'\n",
      "C:\\Users\\aacjp\\Anaconda3\\lib\\site-packages\\statsmodels\\tsa\\ar_model.py:248: FutureWarning: The parameter names will change after 0.12 is released. Set old_names to False to use the new names now. Set old_names to True to use the old names. \n",
      "  warnings.warn(\n",
      "C:\\Users\\aacjp\\Anaconda3\\lib\\site-packages\\statsmodels\\tsa\\deterministic.py:147: UserWarning: Only PeriodIndexes, DatetimeIndexes with a frequency set, RangesIndexes, and Int64Indexes with a unit increment support extending. The index is set will contain the position relative to the data length.\n",
      "  warnings.warn(\n"
     ]
    }
   ],
   "source": [
    "hobbies_df = CollectLoop(hobbies)"
   ]
  },
  {
   "cell_type": "code",
   "execution_count": 9,
   "metadata": {},
   "outputs": [
    {
     "data": {
      "text/html": [
       "<div>\n",
       "<style scoped>\n",
       "    .dataframe tbody tr th:only-of-type {\n",
       "        vertical-align: middle;\n",
       "    }\n",
       "\n",
       "    .dataframe tbody tr th {\n",
       "        vertical-align: top;\n",
       "    }\n",
       "\n",
       "    .dataframe thead th {\n",
       "        text-align: right;\n",
       "    }\n",
       "</style>\n",
       "<table border=\"1\" class=\"dataframe\">\n",
       "  <thead>\n",
       "    <tr style=\"text-align: right;\">\n",
       "      <th></th>\n",
       "      <th>term</th>\n",
       "      <th>current_popularity</th>\n",
       "      <th>change_3mo</th>\n",
       "      <th>change_6mo</th>\n",
       "      <th>change_9mo</th>\n",
       "      <th>change_12mo</th>\n",
       "      <th>change_24mo</th>\n",
       "      <th>popularity_2y</th>\n",
       "      <th>sentiment</th>\n",
       "      <th>subjectivity</th>\n",
       "    </tr>\n",
       "  </thead>\n",
       "  <tbody>\n",
       "    <tr>\n",
       "      <th>0</th>\n",
       "      <td>biking</td>\n",
       "      <td>52</td>\n",
       "      <td>6.5%</td>\n",
       "      <td>8.6%</td>\n",
       "      <td>9.6%</td>\n",
       "      <td>10.0%</td>\n",
       "      <td>10.3%</td>\n",
       "      <td>57.359227</td>\n",
       "      <td>0.18</td>\n",
       "      <td>0.42</td>\n",
       "    </tr>\n",
       "    <tr>\n",
       "      <th>1</th>\n",
       "      <td>gardening</td>\n",
       "      <td>52</td>\n",
       "      <td>-20.0%</td>\n",
       "      <td>-25.5%</td>\n",
       "      <td>-25.7%</td>\n",
       "      <td>-25.7%</td>\n",
       "      <td>-25.7%</td>\n",
       "      <td>38.655012</td>\n",
       "      <td>0.07</td>\n",
       "      <td>0.29</td>\n",
       "    </tr>\n",
       "    <tr>\n",
       "      <th>2</th>\n",
       "      <td>surfing</td>\n",
       "      <td>45</td>\n",
       "      <td>24.9%</td>\n",
       "      <td>34.0%</td>\n",
       "      <td>37.2%</td>\n",
       "      <td>38.3%</td>\n",
       "      <td>38.9%</td>\n",
       "      <td>62.484656</td>\n",
       "      <td>0.06</td>\n",
       "      <td>0.38</td>\n",
       "    </tr>\n",
       "    <tr>\n",
       "      <th>3</th>\n",
       "      <td>home design</td>\n",
       "      <td>78</td>\n",
       "      <td>-1.5%</td>\n",
       "      <td>-2.8%</td>\n",
       "      <td>-3.5%</td>\n",
       "      <td>-3.9%</td>\n",
       "      <td>-4.5%</td>\n",
       "      <td>74.507974</td>\n",
       "      <td>0.09</td>\n",
       "      <td>0.22</td>\n",
       "    </tr>\n",
       "    <tr>\n",
       "      <th>4</th>\n",
       "      <td>workouts</td>\n",
       "      <td>45</td>\n",
       "      <td>8.8%</td>\n",
       "      <td>10.4%</td>\n",
       "      <td>10.7%</td>\n",
       "      <td>10.8%</td>\n",
       "      <td>10.8%</td>\n",
       "      <td>49.855632</td>\n",
       "      <td>0.05</td>\n",
       "      <td>0.36</td>\n",
       "    </tr>\n",
       "  </tbody>\n",
       "</table>\n",
       "</div>"
      ],
      "text/plain": [
       "          term  current_popularity change_3mo change_6mo change_9mo  \\\n",
       "0       biking                  52       6.5%       8.6%       9.6%   \n",
       "1    gardening                  52     -20.0%     -25.5%     -25.7%   \n",
       "2      surfing                  45      24.9%      34.0%      37.2%   \n",
       "3  home design                  78      -1.5%      -2.8%      -3.5%   \n",
       "4     workouts                  45       8.8%      10.4%      10.7%   \n",
       "\n",
       "  change_12mo change_24mo  popularity_2y  sentiment  subjectivity  \n",
       "0       10.0%       10.3%      57.359227       0.18          0.42  \n",
       "1      -25.7%      -25.7%      38.655012       0.07          0.29  \n",
       "2       38.3%       38.9%      62.484656       0.06          0.38  \n",
       "3       -3.9%       -4.5%      74.507974       0.09          0.22  \n",
       "4       10.8%       10.8%      49.855632       0.05          0.36  "
      ]
     },
     "execution_count": 9,
     "metadata": {},
     "output_type": "execute_result"
    }
   ],
   "source": [
    "hobbies_df"
   ]
  },
  {
   "cell_type": "code",
   "execution_count": 10,
   "metadata": {},
   "outputs": [
    {
     "data": {
      "text/html": [
       "<div>\n",
       "<style scoped>\n",
       "    .dataframe tbody tr th:only-of-type {\n",
       "        vertical-align: middle;\n",
       "    }\n",
       "\n",
       "    .dataframe tbody tr th {\n",
       "        vertical-align: top;\n",
       "    }\n",
       "\n",
       "    .dataframe thead th {\n",
       "        text-align: right;\n",
       "    }\n",
       "</style>\n",
       "<table border=\"1\" class=\"dataframe\">\n",
       "  <thead>\n",
       "    <tr style=\"text-align: right;\">\n",
       "      <th></th>\n",
       "      <th>term</th>\n",
       "      <th>current_popularity</th>\n",
       "      <th>change_3mo</th>\n",
       "      <th>change_6mo</th>\n",
       "      <th>change_9mo</th>\n",
       "      <th>change_12mo</th>\n",
       "      <th>change_24mo</th>\n",
       "      <th>popularity_2y</th>\n",
       "      <th>sentiment</th>\n",
       "      <th>subjectivity</th>\n",
       "    </tr>\n",
       "  </thead>\n",
       "  <tbody>\n",
       "    <tr>\n",
       "      <th>3</th>\n",
       "      <td>home design</td>\n",
       "      <td>78</td>\n",
       "      <td>-1.5%</td>\n",
       "      <td>-2.8%</td>\n",
       "      <td>-3.5%</td>\n",
       "      <td>-3.9%</td>\n",
       "      <td>-4.5%</td>\n",
       "      <td>74.507974</td>\n",
       "      <td>0.09</td>\n",
       "      <td>0.22</td>\n",
       "    </tr>\n",
       "  </tbody>\n",
       "</table>\n",
       "</div>"
      ],
      "text/plain": [
       "          term  current_popularity change_3mo change_6mo change_9mo  \\\n",
       "3  home design                  78      -1.5%      -2.8%      -3.5%   \n",
       "\n",
       "  change_12mo change_24mo  popularity_2y  sentiment  subjectivity  \n",
       "3       -3.9%       -4.5%      74.507974       0.09          0.22  "
      ]
     },
     "execution_count": 10,
     "metadata": {},
     "output_type": "execute_result"
    }
   ],
   "source": [
    "hobbies_df[hobbies_df['popularity_2y'] == max(hobbies_df['popularity_2y'])]"
   ]
  },
  {
   "cell_type": "code",
   "execution_count": 14,
   "metadata": {
    "scrolled": true
   },
   "outputs": [
    {
     "name": "stdout",
     "output_type": "stream",
     "text": [
      "AxesSubplot(0.125,0.125;0.775x0.755)\n"
     ]
    },
    {
     "data": {
      "text/html": [
       "<div>\n",
       "<style scoped>\n",
       "    .dataframe tbody tr th:only-of-type {\n",
       "        vertical-align: middle;\n",
       "    }\n",
       "\n",
       "    .dataframe tbody tr th {\n",
       "        vertical-align: top;\n",
       "    }\n",
       "\n",
       "    .dataframe thead th {\n",
       "        text-align: right;\n",
       "    }\n",
       "</style>\n",
       "<table border=\"1\" class=\"dataframe\">\n",
       "  <thead>\n",
       "    <tr style=\"text-align: right;\">\n",
       "      <th></th>\n",
       "      <th>home design</th>\n",
       "    </tr>\n",
       "    <tr>\n",
       "      <th>date</th>\n",
       "      <th></th>\n",
       "    </tr>\n",
       "  </thead>\n",
       "  <tbody>\n",
       "    <tr>\n",
       "      <th>2016-03-27</th>\n",
       "      <td>69</td>\n",
       "    </tr>\n",
       "    <tr>\n",
       "      <th>2016-04-03</th>\n",
       "      <td>70</td>\n",
       "    </tr>\n",
       "    <tr>\n",
       "      <th>2016-04-10</th>\n",
       "      <td>73</td>\n",
       "    </tr>\n",
       "    <tr>\n",
       "      <th>2016-04-17</th>\n",
       "      <td>72</td>\n",
       "    </tr>\n",
       "    <tr>\n",
       "      <th>2016-04-24</th>\n",
       "      <td>69</td>\n",
       "    </tr>\n",
       "    <tr>\n",
       "      <th>...</th>\n",
       "      <td>...</td>\n",
       "    </tr>\n",
       "    <tr>\n",
       "      <th>2021-02-14</th>\n",
       "      <td>79</td>\n",
       "    </tr>\n",
       "    <tr>\n",
       "      <th>2021-02-21</th>\n",
       "      <td>82</td>\n",
       "    </tr>\n",
       "    <tr>\n",
       "      <th>2021-02-28</th>\n",
       "      <td>77</td>\n",
       "    </tr>\n",
       "    <tr>\n",
       "      <th>2021-03-07</th>\n",
       "      <td>80</td>\n",
       "    </tr>\n",
       "    <tr>\n",
       "      <th>2021-03-14</th>\n",
       "      <td>78</td>\n",
       "    </tr>\n",
       "  </tbody>\n",
       "</table>\n",
       "<p>260 rows × 1 columns</p>\n",
       "</div>"
      ],
      "text/plain": [
       "            home design\n",
       "date                   \n",
       "2016-03-27           69\n",
       "2016-04-03           70\n",
       "2016-04-10           73\n",
       "2016-04-17           72\n",
       "2016-04-24           69\n",
       "...                 ...\n",
       "2021-02-14           79\n",
       "2021-02-21           82\n",
       "2021-02-28           77\n",
       "2021-03-07           80\n",
       "2021-03-14           78\n",
       "\n",
       "[260 rows x 1 columns]"
      ]
     },
     "execution_count": 14,
     "metadata": {},
     "output_type": "execute_result"
    },
    {
     "data": {
      "image/png": "[encoded data removed]",
      "text/plain": [
       "<Figure size 432x288 with 1 Axes>"
      ]
     },
     "metadata": {
      "needs_background": "light"
     },
     "output_type": "display_data"
    }
   ],
   "source": [
    "GetReport(['home design'], quiet=False)"
   ]
  },
  {
   "cell_type": "code",
   "execution_count": null,
   "metadata": {},
   "outputs": [],
   "source": []
  }
 ],
 "metadata": {
  "kernelspec": {
   "display_name": "Python 3",
   "language": "python",
   "name": "python3"
  },
  "language_info": {
   "codemirror_mode": {
    "name": "ipython",
    "version": 3
   },
   "file_extension": ".py",
   "mimetype": "text/x-python",
   "name": "python",
   "nbconvert_exporter": "python",
   "pygments_lexer": "ipython3",
   "version": "3.8.5"
  }
 },
 "nbformat": 4,
 "nbformat_minor": 4
}
