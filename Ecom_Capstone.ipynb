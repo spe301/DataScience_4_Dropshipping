{
 "cells": [
  {
   "cell_type": "markdown",
   "metadata": {},
   "source": [
    "# Current Data Sources\n",
    "\n",
    "1. Google Trends API\n",
    "2. Twitter API"
   ]
  },
  {
   "cell_type": "markdown",
   "metadata": {},
   "source": [
    "# Current Features\n",
    "1. term\t\n",
    "2. current_popularity\t\n",
    "3. change_3mo\t\n",
    "4. change_6mo\t\n",
    "5. change_9mo\t\n",
    "6. change_12mo\t\n",
    "7. change_24mo\t\n",
    "8. popularity_2y\t\n",
    "9. sentiment\n",
    "10. subjectivity"
   ]
  },
  {
   "cell_type": "markdown",
   "metadata": {},
   "source": [
    "# Visulizations to make...\n",
    "1. Sentiment PDF\n",
    "2. popularity and predicted popularity\n",
    "\n",
    "# Features to add...\n",
    "1. sentiment standard deviation"
   ]
  },
  {
   "cell_type": "code",
   "execution_count": 1,
   "metadata": {},
   "outputs": [],
   "source": [
    "#imports and instantiations\n",
    "from pytrends.request import TrendReq\n",
    "import tweepy\n",
    "from statsmodels.tsa import ar_model\n",
    "import numpy as np\n",
    "from textblob import TextBlob\n",
    "import pandas as pd\n",
    "from potosnail import Stats\n",
    "import matplotlib.pyplot as plt\n",
    "import seaborn as sns\n",
    "import plotly.graph_objects as go"
   ]
  },
  {
   "cell_type": "code",
   "execution_count": 2,
   "metadata": {},
   "outputs": [],
   "source": [
    "#helper functions\n",
    "def GetReport(keywords, span='today 5-y', geo='', quiet=True):\n",
    "    pytrends = TrendReq(hl='en-US', tz=360)\n",
    "    pytrends.build_payload(keywords, cat=0, timeframe=span, geo=geo, gprop='')\n",
    "    ts = pytrends.interest_over_time().drop(['isPartial'], axis='columns')\n",
    "    if quiet == False:\n",
    "        print(ts.plot())\n",
    "    return ts\n",
    "\n",
    "def AnalyzeTwitter(keyword):\n",
    "    c1 = 'aHXduTrDkva3ItY52tUtYVPvA'\n",
    "    c2 = 'Qs6d4oNT3zXxDqOhita7IG07CfAJGceoqIs1sGuA4OURlbLP6d'\n",
    "    a1 = '1181578611171762177-sGQaj7E9fpWi2aEB3MfWL4nTRovXYk'\n",
    "    a2 = 'wa77yBJZJSOKOAzdaJYDruc9U1HrGhzyDhWgKvSQpm2hv'\n",
    "    auth = tweepy.OAuthHandler(c1, c2)\n",
    "    auth.set_access_token(a1, a2)\n",
    "    api = tweepy.API(auth)\n",
    "    topic = api.search(keyword)\n",
    "    sent = 0\n",
    "    sub = 0\n",
    "    sents = []\n",
    "    for i in range(len(topic)):\n",
    "        tweet = topic[i]._json['text'].replace('@', '')\n",
    "        blob = TextBlob(tweet)\n",
    "        sents.append(blob.sentiment[0])\n",
    "        sent += blob.sentiment[0]/len(topic)\n",
    "        sub += blob.sentiment[1]/len(topic)\n",
    "    return sent, sub, sents\n",
    "\n",
    "def Collect(keyword, quiet=True):\n",
    "    row = {}\n",
    "    ts = GetReport([keyword])\n",
    "    row['term'] = keyword\n",
    "    model = ar_model.AutoReg(ts, lags=4).fit()\n",
    "    pred = model.predict(start=260, end=356)\n",
    "    current_popularity = np.array(ts)[-1][0]\n",
    "    row['current_popularity'] =  current_popularity\n",
    "    row['change_3mo'] = '{}%'.format(round(((pred[11] - current_popularity) / current_popularity) * 100, 1))\n",
    "    row['change_6mo'] = '{}%'.format(round(((pred[23] - current_popularity) / current_popularity) * 100, 1))\n",
    "    row['change_9mo'] = '{}%'.format(round(((pred[35] - current_popularity) / current_popularity) * 100, 1))\n",
    "    row['change_12mo'] = '{}%'.format(round(((pred[47] - current_popularity) / current_popularity) * 100, 1))\n",
    "    row['change_24mo'] = '{}%'.format(round(((pred[95] - current_popularity) / current_popularity) * 100, 1))\n",
    "    row['popularity_2y'] = (((pred[95] - current_popularity) / current_popularity) + 1) * current_popularity\n",
    "    estimated_reach = None\n",
    "    estimated_clicks = None\n",
    "    sentiment, subjectivity, sentiments = AnalyzeTwitter(keyword)\n",
    "    row['sentiment'] = round(sentiment, 2)\n",
    "    row['subjectivity'] = round(subjectivity, 2)\n",
    "    row['sentiments_std'] = round(np.std(sentiments), 2)\n",
    "    if quiet == True:\n",
    "        return row\n",
    "    else:\n",
    "        total = pd.concat([ts, pred])\n",
    "        return total, row\n",
    "\n",
    "def CollectLoop(terms_list):\n",
    "    df = pd.DataFrame(Collect(terms_list[0]), index=[0])\n",
    "    for term in terms_list[1:]:\n",
    "        temp = pd.DataFrame(Collect(term), index=[0])\n",
    "        df = pd.concat([df, temp])\n",
    "    return df.reset_index().drop(['index'], axis='columns')\n",
    "\n",
    "def PlotOne(keyword):\n",
    "    ts, results = Collect(keyword, quiet=False)\n",
    "    subj = results['subjectivity']\n",
    "    obj = 1 - subj\n",
    "    X = ['%subjective', '%objective']\n",
    "    y = [subj, obj]\n",
    "    X2 = ['sentiment']\n",
    "    y2 = results['sentiment']\n",
    "    if results['popularity_2y'] > results['current_popularity']:\n",
    "        future = 'increase'\n",
    "    else:\n",
    "        future = 'decrease'\n",
    "    fig = go.Figure(go.Indicator(\n",
    "    domain = {'x': [0, 1], 'y': [0, 1]},\n",
    "    value = test['sentiment'],\n",
    "    mode = \"gauge+number\",\n",
    "    title = {'text': \"Sentiment of '{}'\".format(keyword)},\n",
    "    gauge = {'axis': {'range': [-1, 1]},\n",
    "             'steps' : [\n",
    "                 {'range': [-1, 0], 'color': \"red\"},\n",
    "                 {'range': [0, 1], 'color': \"lightgreen\"}]}))\n",
    "\n",
    "    fig.show()\n",
    "    sns.barplot(X, y)\n",
    "    plt.title('Subjectivity of \"{}\" based on tweets'.format(keyword))\n",
    "    ts.plot()\n",
    "    plt.ylabel('{} search popularity'.format(keyword))\n",
    "    plt.title('\"{}\" currently has a popularity of {} and is expected to {} {} in the next 2 years'.format(keyword, results['current_popularity'], future, results['change_24mo']))"
   ]
  },
  {
   "cell_type": "code",
   "execution_count": 3,
   "metadata": {},
   "outputs": [],
   "source": [
    "hobbies = ['biking', 'gardening', 'surfing', 'home design', 'workouts']\n",
    "products = ['face mask', 'bike helmet', 'board shorts', 'back brace', 'puzzles']"
   ]
  },
  {
   "cell_type": "code",
   "execution_count": 4,
   "metadata": {},
   "outputs": [],
   "source": [
    "hobbies_df = CollectLoop(hobbies)"
   ]
  },
  {
   "cell_type": "code",
   "execution_count": 5,
   "metadata": {},
   "outputs": [
    {
     "data": {
      "text/html": [
       "<div>\n",
       "<style scoped>\n",
       "    .dataframe tbody tr th:only-of-type {\n",
       "        vertical-align: middle;\n",
       "    }\n",
       "\n",
       "    .dataframe tbody tr th {\n",
       "        vertical-align: top;\n",
       "    }\n",
       "\n",
       "    .dataframe thead th {\n",
       "        text-align: right;\n",
       "    }\n",
       "</style>\n",
       "<table border=\"1\" class=\"dataframe\">\n",
       "  <thead>\n",
       "    <tr style=\"text-align: right;\">\n",
       "      <th></th>\n",
       "      <th>term</th>\n",
       "      <th>current_popularity</th>\n",
       "      <th>change_3mo</th>\n",
       "      <th>change_6mo</th>\n",
       "      <th>change_9mo</th>\n",
       "      <th>change_12mo</th>\n",
       "      <th>change_24mo</th>\n",
       "      <th>popularity_2y</th>\n",
       "      <th>sentiment</th>\n",
       "      <th>subjectivity</th>\n",
       "      <th>sentiments_std</th>\n",
       "    </tr>\n",
       "  </thead>\n",
       "  <tbody>\n",
       "    <tr>\n",
       "      <th>0</th>\n",
       "      <td>biking</td>\n",
       "      <td>61</td>\n",
       "      <td>-4.4%</td>\n",
       "      <td>-5.8%</td>\n",
       "      <td>-6.5%</td>\n",
       "      <td>-6.8%</td>\n",
       "      <td>-7.1%</td>\n",
       "      <td>56.672343</td>\n",
       "      <td>-0.07</td>\n",
       "      <td>0.37</td>\n",
       "      <td>0.35</td>\n",
       "    </tr>\n",
       "    <tr>\n",
       "      <th>1</th>\n",
       "      <td>gardening</td>\n",
       "      <td>73</td>\n",
       "      <td>-18.6%</td>\n",
       "      <td>-39.1%</td>\n",
       "      <td>-44.6%</td>\n",
       "      <td>-45.9%</td>\n",
       "      <td>-46.3%</td>\n",
       "      <td>39.188363</td>\n",
       "      <td>0.17</td>\n",
       "      <td>0.28</td>\n",
       "      <td>0.24</td>\n",
       "    </tr>\n",
       "    <tr>\n",
       "      <th>2</th>\n",
       "      <td>surfing</td>\n",
       "      <td>49</td>\n",
       "      <td>18.8%</td>\n",
       "      <td>26.0%</td>\n",
       "      <td>28.1%</td>\n",
       "      <td>28.8%</td>\n",
       "      <td>29.0%</td>\n",
       "      <td>63.209679</td>\n",
       "      <td>0.19</td>\n",
       "      <td>0.33</td>\n",
       "      <td>0.35</td>\n",
       "    </tr>\n",
       "    <tr>\n",
       "      <th>3</th>\n",
       "      <td>home design</td>\n",
       "      <td>73</td>\n",
       "      <td>1.5%</td>\n",
       "      <td>0.6%</td>\n",
       "      <td>0.2%</td>\n",
       "      <td>-0.1%</td>\n",
       "      <td>-0.4%</td>\n",
       "      <td>72.721233</td>\n",
       "      <td>0.13</td>\n",
       "      <td>0.34</td>\n",
       "      <td>0.16</td>\n",
       "    </tr>\n",
       "    <tr>\n",
       "      <th>4</th>\n",
       "      <td>workouts</td>\n",
       "      <td>41</td>\n",
       "      <td>19.9%</td>\n",
       "      <td>24.7%</td>\n",
       "      <td>25.5%</td>\n",
       "      <td>25.7%</td>\n",
       "      <td>25.7%</td>\n",
       "      <td>51.528668</td>\n",
       "      <td>0.08</td>\n",
       "      <td>0.43</td>\n",
       "      <td>0.49</td>\n",
       "    </tr>\n",
       "  </tbody>\n",
       "</table>\n",
       "</div>"
      ],
      "text/plain": [
       "          term  current_popularity change_3mo change_6mo change_9mo  \\\n",
       "0       biking                  61      -4.4%      -5.8%      -6.5%   \n",
       "1    gardening                  73     -18.6%     -39.1%     -44.6%   \n",
       "2      surfing                  49      18.8%      26.0%      28.1%   \n",
       "3  home design                  73       1.5%       0.6%       0.2%   \n",
       "4     workouts                  41      19.9%      24.7%      25.5%   \n",
       "\n",
       "  change_12mo change_24mo  popularity_2y  sentiment  subjectivity  \\\n",
       "0       -6.8%       -7.1%      56.672343      -0.07          0.37   \n",
       "1      -45.9%      -46.3%      39.188363       0.17          0.28   \n",
       "2       28.8%       29.0%      63.209679       0.19          0.33   \n",
       "3       -0.1%       -0.4%      72.721233       0.13          0.34   \n",
       "4       25.7%       25.7%      51.528668       0.08          0.43   \n",
       "\n",
       "   sentiments_std  \n",
       "0            0.35  \n",
       "1            0.24  \n",
       "2            0.35  \n",
       "3            0.16  \n",
       "4            0.49  "
      ]
     },
     "execution_count": 5,
     "metadata": {},
     "output_type": "execute_result"
    }
   ],
   "source": [
    "hobbies_df"
   ]
  },
  {
   "cell_type": "code",
   "execution_count": 6,
   "metadata": {},
   "outputs": [
    {
     "data": {
      "text/html": [
       "<div>\n",
       "<style scoped>\n",
       "    .dataframe tbody tr th:only-of-type {\n",
       "        vertical-align: middle;\n",
       "    }\n",
       "\n",
       "    .dataframe tbody tr th {\n",
       "        vertical-align: top;\n",
       "    }\n",
       "\n",
       "    .dataframe thead th {\n",
       "        text-align: right;\n",
       "    }\n",
       "</style>\n",
       "<table border=\"1\" class=\"dataframe\">\n",
       "  <thead>\n",
       "    <tr style=\"text-align: right;\">\n",
       "      <th></th>\n",
       "      <th>term</th>\n",
       "      <th>current_popularity</th>\n",
       "      <th>change_3mo</th>\n",
       "      <th>change_6mo</th>\n",
       "      <th>change_9mo</th>\n",
       "      <th>change_12mo</th>\n",
       "      <th>change_24mo</th>\n",
       "      <th>popularity_2y</th>\n",
       "      <th>sentiment</th>\n",
       "      <th>subjectivity</th>\n",
       "      <th>sentiments_std</th>\n",
       "    </tr>\n",
       "  </thead>\n",
       "  <tbody>\n",
       "    <tr>\n",
       "      <th>3</th>\n",
       "      <td>home design</td>\n",
       "      <td>73</td>\n",
       "      <td>1.5%</td>\n",
       "      <td>0.6%</td>\n",
       "      <td>0.2%</td>\n",
       "      <td>-0.1%</td>\n",
       "      <td>-0.4%</td>\n",
       "      <td>72.721233</td>\n",
       "      <td>0.13</td>\n",
       "      <td>0.34</td>\n",
       "      <td>0.16</td>\n",
       "    </tr>\n",
       "  </tbody>\n",
       "</table>\n",
       "</div>"
      ],
      "text/plain": [
       "          term  current_popularity change_3mo change_6mo change_9mo  \\\n",
       "3  home design                  73       1.5%       0.6%       0.2%   \n",
       "\n",
       "  change_12mo change_24mo  popularity_2y  sentiment  subjectivity  \\\n",
       "3       -0.1%       -0.4%      72.721233       0.13          0.34   \n",
       "\n",
       "   sentiments_std  \n",
       "3            0.16  "
      ]
     },
     "execution_count": 6,
     "metadata": {},
     "output_type": "execute_result"
    }
   ],
   "source": [
    "hobbies_df[hobbies_df['popularity_2y'] == max(hobbies_df['popularity_2y'])]"
   ]
  },
  {
   "cell_type": "code",
   "execution_count": 7,
   "metadata": {
    "scrolled": true
   },
   "outputs": [
    {
     "name": "stdout",
     "output_type": "stream",
     "text": [
      "AxesSubplot(0.125,0.125;0.775x0.755)\n"
     ]
    },
    {
     "data": {
      "text/html": [
       "<div>\n",
       "<style scoped>\n",
       "    .dataframe tbody tr th:only-of-type {\n",
       "        vertical-align: middle;\n",
       "    }\n",
       "\n",
       "    .dataframe tbody tr th {\n",
       "        vertical-align: top;\n",
       "    }\n",
       "\n",
       "    .dataframe thead th {\n",
       "        text-align: right;\n",
       "    }\n",
       "</style>\n",
       "<table border=\"1\" class=\"dataframe\">\n",
       "  <thead>\n",
       "    <tr style=\"text-align: right;\">\n",
       "      <th></th>\n",
       "      <th>home design</th>\n",
       "    </tr>\n",
       "    <tr>\n",
       "      <th>date</th>\n",
       "      <th></th>\n",
       "    </tr>\n",
       "  </thead>\n",
       "  <tbody>\n",
       "    <tr>\n",
       "      <th>2016-03-27</th>\n",
       "      <td>68</td>\n",
       "    </tr>\n",
       "    <tr>\n",
       "      <th>2016-04-03</th>\n",
       "      <td>71</td>\n",
       "    </tr>\n",
       "    <tr>\n",
       "      <th>2016-04-10</th>\n",
       "      <td>71</td>\n",
       "    </tr>\n",
       "    <tr>\n",
       "      <th>2016-04-17</th>\n",
       "      <td>69</td>\n",
       "    </tr>\n",
       "    <tr>\n",
       "      <th>2016-04-24</th>\n",
       "      <td>69</td>\n",
       "    </tr>\n",
       "    <tr>\n",
       "      <th>...</th>\n",
       "      <td>...</td>\n",
       "    </tr>\n",
       "    <tr>\n",
       "      <th>2021-02-21</th>\n",
       "      <td>81</td>\n",
       "    </tr>\n",
       "    <tr>\n",
       "      <th>2021-02-28</th>\n",
       "      <td>75</td>\n",
       "    </tr>\n",
       "    <tr>\n",
       "      <th>2021-03-07</th>\n",
       "      <td>84</td>\n",
       "    </tr>\n",
       "    <tr>\n",
       "      <th>2021-03-14</th>\n",
       "      <td>78</td>\n",
       "    </tr>\n",
       "    <tr>\n",
       "      <th>2021-03-21</th>\n",
       "      <td>73</td>\n",
       "    </tr>\n",
       "  </tbody>\n",
       "</table>\n",
       "<p>261 rows × 1 columns</p>\n",
       "</div>"
      ],
      "text/plain": [
       "            home design\n",
       "date                   \n",
       "2016-03-27           68\n",
       "2016-04-03           71\n",
       "2016-04-10           71\n",
       "2016-04-17           69\n",
       "2016-04-24           69\n",
       "...                 ...\n",
       "2021-02-21           81\n",
       "2021-02-28           75\n",
       "2021-03-07           84\n",
       "2021-03-14           78\n",
       "2021-03-21           73\n",
       "\n",
       "[261 rows x 1 columns]"
      ]
     },
     "execution_count": 7,
     "metadata": {},
     "output_type": "execute_result"
    },
    {
     "data": {
      "image/png": "[encoded data removed]",
      "text/plain": [
       "<Figure size 432x288 with 1 Axes>"
      ]
     },
     "metadata": {
      "needs_background": "light"
     },
     "output_type": "display_data"
    }
   ],
   "source": [
    "GetReport(['home design'], quiet=False)"
   ]
  },
  {
   "cell_type": "code",
   "execution_count": 8,
   "metadata": {
    "scrolled": false
   },
   "outputs": [],
   "source": [
    "test = Collect('surfing')"
   ]
  },
  {
   "cell_type": "code",
   "execution_count": 9,
   "metadata": {},
   "outputs": [
    {
     "data": {
      "text/plain": [
       "{'term': 'surfing',\n",
       " 'current_popularity': 49,\n",
       " 'change_3mo': '18.8%',\n",
       " 'change_6mo': '26.0%',\n",
       " 'change_9mo': '28.1%',\n",
       " 'change_12mo': '28.8%',\n",
       " 'change_24mo': '29.0%',\n",
       " 'popularity_2y': 63.209678993446495,\n",
       " 'sentiment': 0.19,\n",
       " 'subjectivity': 0.33,\n",
       " 'sentiments_std': 0.35}"
      ]
     },
     "execution_count": 9,
     "metadata": {},
     "output_type": "execute_result"
    }
   ],
   "source": [
    "test"
   ]
  },
  {
   "cell_type": "code",
   "execution_count": 44,
   "metadata": {},
   "outputs": [
    {
     "data": {
      "image/png": "[encoded data removed]",
      "text/plain": [
       "<Figure size 432x288 with 5 Axes>"
      ]
     },
     "metadata": {
      "needs_background": "light"
     },
     "output_type": "display_data"
    }
   ],
   "source": [
    "def PlotMany(keywords):\n",
    "    ts = GetReport(keywords)\n",
    "    ts.plot(subplots=True)\n",
    "    \n",
    "PlotMany(products)"
   ]
  },
  {
   "cell_type": "markdown",
   "metadata": {},
   "source": [
    "## How can this output be improved?\n",
    "plot sentiment and subjectivity rather than wrighting it out"
   ]
  },
  {
   "cell_type": "code",
   "execution_count": 40,
   "metadata": {},
   "outputs": [
    {
     "data": {
      "text/plain": [
       "<AxesSubplot:xlabel='date'>"
      ]
     },
     "execution_count": 40,
     "metadata": {},
     "output_type": "execute_result"
    },
    {
     "data": {
      "image/png": "[encoded data removed]",
      "text/plain": [
       "<Figure size 432x288 with 1 Axes>"
      ]
     },
     "metadata": {
      "needs_background": "light"
     },
     "output_type": "display_data"
    }
   ],
   "source": [
    "GetReport(['gardening', 'surfing']).plot(legend=True)"
   ]
  },
  {
   "cell_type": "code",
   "execution_count": null,
   "metadata": {},
   "outputs": [],
   "source": []
  }
 ],
 "metadata": {
  "kernelspec": {
   "display_name": "Python 3",
   "language": "python",
   "name": "python3"
  },
  "language_info": {
   "codemirror_mode": {
    "name": "ipython",
    "version": 3
   },
   "file_extension": ".py",
   "mimetype": "text/x-python",
   "name": "python",
   "nbconvert_exporter": "python",
   "pygments_lexer": "ipython3",
   "version": "3.8.5"
  }
 },
 "nbformat": 4,
 "nbformat_minor": 4
}
